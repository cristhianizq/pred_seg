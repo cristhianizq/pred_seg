{
 "cells": [
  {
   "cell_type": "markdown",
   "id": "f5ae59e2",
   "metadata": {},
   "source": [
    "### Seguridad Ecopetrol"
   ]
  },
  {
   "cell_type": "markdown",
   "id": "c652411c",
   "metadata": {},
   "source": [
    "## Contenido\n",
    "* Importación librerías\n",
    "* Carga información\n",
    "* Calculo General\n",
    "* Series de tiempo\n",
    " * ITEM\n",
    " * DES_ACCION\n",
    "* Preciciones\n",
    "* Revisión Metricas\n",
    "* Seleccion Mejor Método\n",
    "* Predicciones futuras"
   ]
  },
  {
   "cell_type": "markdown",
   "id": "aed9ae28",
   "metadata": {},
   "source": [
    "## Importación Librerías"
   ]
  },
  {
   "cell_type": "code",
   "execution_count": 1,
   "id": "054c6698",
   "metadata": {},
   "outputs": [],
   "source": [
    "import pandas as pd\n",
    "from pmdarima.arima import auto_arima\n",
    "from sklearn.metrics import mean_squared_error\n",
    "from math import sqrt\n",
    "from datetime import datetime, date, timedelta\n",
    "from sklearn.metrics import mean_absolute_percentage_error\n",
    "import matplotlib.pyplot as plt\n",
    "from statsmodels.tsa.holtwinters import SimpleExpSmoothing, Holt,ExponentialSmoothing\n",
    "import numpy as np\n",
    "from statsmodels.tsa.exponential_smoothing.ets import ETSModel\n",
    "pd.set_option('display.float_format', lambda x: '%.3f' % x)\n",
    "import warnings\n",
    "warnings.filterwarnings('ignore')"
   ]
  },
  {
   "cell_type": "markdown",
   "id": "e6f19ad1",
   "metadata": {},
   "source": [
    "## Carga información"
   ]
  },
  {
   "cell_type": "code",
   "execution_count": 2,
   "id": "60b28a79",
   "metadata": {},
   "outputs": [
    {
     "ename": "FileNotFoundError",
     "evalue": "[Errno 2] No such file or directory: '../Bases_Datalake/VW_TRAF_SEGURIDAD_SEMANA.csv'",
     "output_type": "error",
     "traceback": [
      "\u001b[1;31m---------------------------------------------------------------------------\u001b[0m",
      "\u001b[1;31mFileNotFoundError\u001b[0m                         Traceback (most recent call last)",
      "\u001b[1;32m<ipython-input-2-164bcf47c2ee>\u001b[0m in \u001b[0;36m<module>\u001b[1;34m\u001b[0m\n\u001b[0;32m      2\u001b[0m \u001b[0mfile\u001b[0m\u001b[1;33m=\u001b[0m \u001b[1;34mf'../Bases_Datalake/VW_TRAF_SEGURIDAD_SEMANA.csv'\u001b[0m\u001b[1;33m\u001b[0m\u001b[1;33m\u001b[0m\u001b[0m\n\u001b[0;32m      3\u001b[0m \u001b[1;33m\u001b[0m\u001b[0m\n\u001b[1;32m----> 4\u001b[1;33m \u001b[0mdf\u001b[0m \u001b[1;33m=\u001b[0m \u001b[0mpd\u001b[0m\u001b[1;33m.\u001b[0m\u001b[0mread_csv\u001b[0m\u001b[1;33m(\u001b[0m\u001b[1;34mf'{path_data}{file}'\u001b[0m\u001b[1;33m,\u001b[0m \u001b[0msep\u001b[0m\u001b[1;33m=\u001b[0m\u001b[1;34m'|'\u001b[0m\u001b[1;33m,\u001b[0m \u001b[0mdecimal\u001b[0m\u001b[1;33m=\u001b[0m\u001b[1;34m'.'\u001b[0m\u001b[1;33m)\u001b[0m\u001b[1;33m\u001b[0m\u001b[1;33m\u001b[0m\u001b[0m\n\u001b[0m",
      "\u001b[1;32mC:\\ProgramData\\Anaconda3\\envs\\ds_sqdm_claro\\lib\\site-packages\\pandas\\io\\parsers.py\u001b[0m in \u001b[0;36mread_csv\u001b[1;34m(filepath_or_buffer, sep, delimiter, header, names, index_col, usecols, squeeze, prefix, mangle_dupe_cols, dtype, engine, converters, true_values, false_values, skipinitialspace, skiprows, skipfooter, nrows, na_values, keep_default_na, na_filter, verbose, skip_blank_lines, parse_dates, infer_datetime_format, keep_date_col, date_parser, dayfirst, cache_dates, iterator, chunksize, compression, thousands, decimal, lineterminator, quotechar, quoting, doublequote, escapechar, comment, encoding, dialect, error_bad_lines, warn_bad_lines, delim_whitespace, low_memory, memory_map, float_precision, storage_options)\u001b[0m\n\u001b[0;32m    608\u001b[0m     \u001b[0mkwds\u001b[0m\u001b[1;33m.\u001b[0m\u001b[0mupdate\u001b[0m\u001b[1;33m(\u001b[0m\u001b[0mkwds_defaults\u001b[0m\u001b[1;33m)\u001b[0m\u001b[1;33m\u001b[0m\u001b[1;33m\u001b[0m\u001b[0m\n\u001b[0;32m    609\u001b[0m \u001b[1;33m\u001b[0m\u001b[0m\n\u001b[1;32m--> 610\u001b[1;33m     \u001b[1;32mreturn\u001b[0m \u001b[0m_read\u001b[0m\u001b[1;33m(\u001b[0m\u001b[0mfilepath_or_buffer\u001b[0m\u001b[1;33m,\u001b[0m \u001b[0mkwds\u001b[0m\u001b[1;33m)\u001b[0m\u001b[1;33m\u001b[0m\u001b[1;33m\u001b[0m\u001b[0m\n\u001b[0m\u001b[0;32m    611\u001b[0m \u001b[1;33m\u001b[0m\u001b[0m\n\u001b[0;32m    612\u001b[0m \u001b[1;33m\u001b[0m\u001b[0m\n",
      "\u001b[1;32mC:\\ProgramData\\Anaconda3\\envs\\ds_sqdm_claro\\lib\\site-packages\\pandas\\io\\parsers.py\u001b[0m in \u001b[0;36m_read\u001b[1;34m(filepath_or_buffer, kwds)\u001b[0m\n\u001b[0;32m    460\u001b[0m \u001b[1;33m\u001b[0m\u001b[0m\n\u001b[0;32m    461\u001b[0m     \u001b[1;31m# Create the parser.\u001b[0m\u001b[1;33m\u001b[0m\u001b[1;33m\u001b[0m\u001b[1;33m\u001b[0m\u001b[0m\n\u001b[1;32m--> 462\u001b[1;33m     \u001b[0mparser\u001b[0m \u001b[1;33m=\u001b[0m \u001b[0mTextFileReader\u001b[0m\u001b[1;33m(\u001b[0m\u001b[0mfilepath_or_buffer\u001b[0m\u001b[1;33m,\u001b[0m \u001b[1;33m**\u001b[0m\u001b[0mkwds\u001b[0m\u001b[1;33m)\u001b[0m\u001b[1;33m\u001b[0m\u001b[1;33m\u001b[0m\u001b[0m\n\u001b[0m\u001b[0;32m    463\u001b[0m \u001b[1;33m\u001b[0m\u001b[0m\n\u001b[0;32m    464\u001b[0m     \u001b[1;32mif\u001b[0m \u001b[0mchunksize\u001b[0m \u001b[1;32mor\u001b[0m \u001b[0miterator\u001b[0m\u001b[1;33m:\u001b[0m\u001b[1;33m\u001b[0m\u001b[1;33m\u001b[0m\u001b[0m\n",
      "\u001b[1;32mC:\\ProgramData\\Anaconda3\\envs\\ds_sqdm_claro\\lib\\site-packages\\pandas\\io\\parsers.py\u001b[0m in \u001b[0;36m__init__\u001b[1;34m(self, f, engine, **kwds)\u001b[0m\n\u001b[0;32m    817\u001b[0m             \u001b[0mself\u001b[0m\u001b[1;33m.\u001b[0m\u001b[0moptions\u001b[0m\u001b[1;33m[\u001b[0m\u001b[1;34m\"has_index_names\"\u001b[0m\u001b[1;33m]\u001b[0m \u001b[1;33m=\u001b[0m \u001b[0mkwds\u001b[0m\u001b[1;33m[\u001b[0m\u001b[1;34m\"has_index_names\"\u001b[0m\u001b[1;33m]\u001b[0m\u001b[1;33m\u001b[0m\u001b[1;33m\u001b[0m\u001b[0m\n\u001b[0;32m    818\u001b[0m \u001b[1;33m\u001b[0m\u001b[0m\n\u001b[1;32m--> 819\u001b[1;33m         \u001b[0mself\u001b[0m\u001b[1;33m.\u001b[0m\u001b[0m_engine\u001b[0m \u001b[1;33m=\u001b[0m \u001b[0mself\u001b[0m\u001b[1;33m.\u001b[0m\u001b[0m_make_engine\u001b[0m\u001b[1;33m(\u001b[0m\u001b[0mself\u001b[0m\u001b[1;33m.\u001b[0m\u001b[0mengine\u001b[0m\u001b[1;33m)\u001b[0m\u001b[1;33m\u001b[0m\u001b[1;33m\u001b[0m\u001b[0m\n\u001b[0m\u001b[0;32m    820\u001b[0m \u001b[1;33m\u001b[0m\u001b[0m\n\u001b[0;32m    821\u001b[0m     \u001b[1;32mdef\u001b[0m \u001b[0mclose\u001b[0m\u001b[1;33m(\u001b[0m\u001b[0mself\u001b[0m\u001b[1;33m)\u001b[0m\u001b[1;33m:\u001b[0m\u001b[1;33m\u001b[0m\u001b[1;33m\u001b[0m\u001b[0m\n",
      "\u001b[1;32mC:\\ProgramData\\Anaconda3\\envs\\ds_sqdm_claro\\lib\\site-packages\\pandas\\io\\parsers.py\u001b[0m in \u001b[0;36m_make_engine\u001b[1;34m(self, engine)\u001b[0m\n\u001b[0;32m   1048\u001b[0m             )\n\u001b[0;32m   1049\u001b[0m         \u001b[1;31m# error: Too many arguments for \"ParserBase\"\u001b[0m\u001b[1;33m\u001b[0m\u001b[1;33m\u001b[0m\u001b[1;33m\u001b[0m\u001b[0m\n\u001b[1;32m-> 1050\u001b[1;33m         \u001b[1;32mreturn\u001b[0m \u001b[0mmapping\u001b[0m\u001b[1;33m[\u001b[0m\u001b[0mengine\u001b[0m\u001b[1;33m]\u001b[0m\u001b[1;33m(\u001b[0m\u001b[0mself\u001b[0m\u001b[1;33m.\u001b[0m\u001b[0mf\u001b[0m\u001b[1;33m,\u001b[0m \u001b[1;33m**\u001b[0m\u001b[0mself\u001b[0m\u001b[1;33m.\u001b[0m\u001b[0moptions\u001b[0m\u001b[1;33m)\u001b[0m  \u001b[1;31m# type: ignore[call-arg]\u001b[0m\u001b[1;33m\u001b[0m\u001b[1;33m\u001b[0m\u001b[0m\n\u001b[0m\u001b[0;32m   1051\u001b[0m \u001b[1;33m\u001b[0m\u001b[0m\n\u001b[0;32m   1052\u001b[0m     \u001b[1;32mdef\u001b[0m \u001b[0m_failover_to_python\u001b[0m\u001b[1;33m(\u001b[0m\u001b[0mself\u001b[0m\u001b[1;33m)\u001b[0m\u001b[1;33m:\u001b[0m\u001b[1;33m\u001b[0m\u001b[1;33m\u001b[0m\u001b[0m\n",
      "\u001b[1;32mC:\\ProgramData\\Anaconda3\\envs\\ds_sqdm_claro\\lib\\site-packages\\pandas\\io\\parsers.py\u001b[0m in \u001b[0;36m__init__\u001b[1;34m(self, src, **kwds)\u001b[0m\n\u001b[0;32m   1865\u001b[0m \u001b[1;33m\u001b[0m\u001b[0m\n\u001b[0;32m   1866\u001b[0m         \u001b[1;31m# open handles\u001b[0m\u001b[1;33m\u001b[0m\u001b[1;33m\u001b[0m\u001b[1;33m\u001b[0m\u001b[0m\n\u001b[1;32m-> 1867\u001b[1;33m         \u001b[0mself\u001b[0m\u001b[1;33m.\u001b[0m\u001b[0m_open_handles\u001b[0m\u001b[1;33m(\u001b[0m\u001b[0msrc\u001b[0m\u001b[1;33m,\u001b[0m \u001b[0mkwds\u001b[0m\u001b[1;33m)\u001b[0m\u001b[1;33m\u001b[0m\u001b[1;33m\u001b[0m\u001b[0m\n\u001b[0m\u001b[0;32m   1868\u001b[0m         \u001b[1;32massert\u001b[0m \u001b[0mself\u001b[0m\u001b[1;33m.\u001b[0m\u001b[0mhandles\u001b[0m \u001b[1;32mis\u001b[0m \u001b[1;32mnot\u001b[0m \u001b[1;32mNone\u001b[0m\u001b[1;33m\u001b[0m\u001b[1;33m\u001b[0m\u001b[0m\n\u001b[0;32m   1869\u001b[0m         \u001b[1;32mfor\u001b[0m \u001b[0mkey\u001b[0m \u001b[1;32min\u001b[0m \u001b[1;33m(\u001b[0m\u001b[1;34m\"storage_options\"\u001b[0m\u001b[1;33m,\u001b[0m \u001b[1;34m\"encoding\"\u001b[0m\u001b[1;33m,\u001b[0m \u001b[1;34m\"memory_map\"\u001b[0m\u001b[1;33m,\u001b[0m \u001b[1;34m\"compression\"\u001b[0m\u001b[1;33m)\u001b[0m\u001b[1;33m:\u001b[0m\u001b[1;33m\u001b[0m\u001b[1;33m\u001b[0m\u001b[0m\n",
      "\u001b[1;32mC:\\ProgramData\\Anaconda3\\envs\\ds_sqdm_claro\\lib\\site-packages\\pandas\\io\\parsers.py\u001b[0m in \u001b[0;36m_open_handles\u001b[1;34m(self, src, kwds)\u001b[0m\n\u001b[0;32m   1360\u001b[0m         \u001b[0mLet\u001b[0m \u001b[0mthe\u001b[0m \u001b[0mreaders\u001b[0m \u001b[0mopen\u001b[0m \u001b[0mIOHanldes\u001b[0m \u001b[0mafter\u001b[0m \u001b[0mthey\u001b[0m \u001b[0mare\u001b[0m \u001b[0mdone\u001b[0m \u001b[1;32mwith\u001b[0m \u001b[0mtheir\u001b[0m \u001b[0mpotential\u001b[0m \u001b[0mraises\u001b[0m\u001b[1;33m.\u001b[0m\u001b[1;33m\u001b[0m\u001b[1;33m\u001b[0m\u001b[0m\n\u001b[0;32m   1361\u001b[0m         \"\"\"\n\u001b[1;32m-> 1362\u001b[1;33m         self.handles = get_handle(\n\u001b[0m\u001b[0;32m   1363\u001b[0m             \u001b[0msrc\u001b[0m\u001b[1;33m,\u001b[0m\u001b[1;33m\u001b[0m\u001b[1;33m\u001b[0m\u001b[0m\n\u001b[0;32m   1364\u001b[0m             \u001b[1;34m\"r\"\u001b[0m\u001b[1;33m,\u001b[0m\u001b[1;33m\u001b[0m\u001b[1;33m\u001b[0m\u001b[0m\n",
      "\u001b[1;32mC:\\ProgramData\\Anaconda3\\envs\\ds_sqdm_claro\\lib\\site-packages\\pandas\\io\\common.py\u001b[0m in \u001b[0;36mget_handle\u001b[1;34m(path_or_buf, mode, encoding, compression, memory_map, is_text, errors, storage_options)\u001b[0m\n\u001b[0;32m    640\u001b[0m                 \u001b[0merrors\u001b[0m \u001b[1;33m=\u001b[0m \u001b[1;34m\"replace\"\u001b[0m\u001b[1;33m\u001b[0m\u001b[1;33m\u001b[0m\u001b[0m\n\u001b[0;32m    641\u001b[0m             \u001b[1;31m# Encoding\u001b[0m\u001b[1;33m\u001b[0m\u001b[1;33m\u001b[0m\u001b[1;33m\u001b[0m\u001b[0m\n\u001b[1;32m--> 642\u001b[1;33m             handle = open(\n\u001b[0m\u001b[0;32m    643\u001b[0m                 \u001b[0mhandle\u001b[0m\u001b[1;33m,\u001b[0m\u001b[1;33m\u001b[0m\u001b[1;33m\u001b[0m\u001b[0m\n\u001b[0;32m    644\u001b[0m                 \u001b[0mioargs\u001b[0m\u001b[1;33m.\u001b[0m\u001b[0mmode\u001b[0m\u001b[1;33m,\u001b[0m\u001b[1;33m\u001b[0m\u001b[1;33m\u001b[0m\u001b[0m\n",
      "\u001b[1;31mFileNotFoundError\u001b[0m: [Errno 2] No such file or directory: '../Bases_Datalake/VW_TRAF_SEGURIDAD_SEMANA.csv'"
     ]
    }
   ],
   "source": [
    "path_data = ''\n",
    "file= f'../Bases_Datalake/VW_TRAF_SEGURIDAD_SEMANA.csv'\n",
    "\n",
    "df = pd.read_csv(f'{path_data}{file}', sep='|', decimal='.')"
   ]
  },
  {
   "cell_type": "code",
   "execution_count": null,
   "id": "13d88a54",
   "metadata": {
    "scrolled": true
   },
   "outputs": [],
   "source": [
    "df.head()"
   ]
  },
  {
   "cell_type": "code",
   "execution_count": null,
   "id": "c679a3c6",
   "metadata": {},
   "outputs": [],
   "source": [
    "len(df)"
   ]
  },
  {
   "cell_type": "markdown",
   "id": "b8f89b69",
   "metadata": {},
   "source": [
    "##  Cálculo General"
   ]
  },
  {
   "cell_type": "code",
   "execution_count": null,
   "id": "7299f3dc",
   "metadata": {},
   "outputs": [],
   "source": [
    "dfTotalV2=df.groupby(['FEC_MUESTRA'])[['VAL_CANTIDAD']].agg('sum')\n",
    "dfTotalV2.index=pd.to_datetime(dfTotalV2.index)"
   ]
  },
  {
   "cell_type": "code",
   "execution_count": null,
   "id": "a9d61042",
   "metadata": {},
   "outputs": [],
   "source": [
    "dfTotalV2"
   ]
  },
  {
   "cell_type": "code",
   "execution_count": null,
   "id": "bd9b5645",
   "metadata": {},
   "outputs": [],
   "source": [
    "#dfTotalV2.asfreq(freq='W-WED').plot()"
   ]
  },
  {
   "cell_type": "code",
   "execution_count": null,
   "id": "5879736f",
   "metadata": {},
   "outputs": [],
   "source": [
    "#dfTotalV2.asfreq(freq='W-WED',method='bfill').plot()"
   ]
  },
  {
   "cell_type": "code",
   "execution_count": null,
   "id": "578ca2fa",
   "metadata": {
    "scrolled": true
   },
   "outputs": [],
   "source": [
    "#dfTotalV2.asfreq(freq='W-WED').interpolate().plot()\n",
    "dfTotalV2=dfTotalV2.asfreq(freq='W-WED').interpolate()"
   ]
  },
  {
   "cell_type": "markdown",
   "id": "83c966b1",
   "metadata": {},
   "source": [
    "### Seleccion Fecha Train y Test"
   ]
  },
  {
   "cell_type": "code",
   "execution_count": null,
   "id": "94453068",
   "metadata": {},
   "outputs": [],
   "source": [
    "fechaMaxima=max(dfTotalV2.index)\n",
    "fechaMaxima"
   ]
  },
  {
   "cell_type": "code",
   "execution_count": null,
   "id": "7e77afd1",
   "metadata": {},
   "outputs": [],
   "source": [
    "fechaMaxTrain=dfTotalV2.index[-5]\n",
    "fechaMinTest=dfTotalV2.index[-4]"
   ]
  },
  {
   "cell_type": "code",
   "execution_count": null,
   "id": "be4c84ee",
   "metadata": {},
   "outputs": [],
   "source": [
    "df_serie_train=dfTotalV2[:fechaMaxTrain]\n",
    "df_serie_test=dfTotalV2[fechaMinTest:]"
   ]
  },
  {
   "cell_type": "code",
   "execution_count": null,
   "id": "c1f38f05",
   "metadata": {
    "scrolled": true
   },
   "outputs": [],
   "source": [
    "df_serie_test"
   ]
  },
  {
   "cell_type": "code",
   "execution_count": null,
   "id": "aa7f5f4d",
   "metadata": {},
   "outputs": [],
   "source": [
    "ind = pd.date_range(df_serie_test.index.min(), periods = 4, freq ='W-WED', name='FEC_MUESTRA')"
   ]
  },
  {
   "cell_type": "code",
   "execution_count": null,
   "id": "709c237f",
   "metadata": {},
   "outputs": [],
   "source": [
    "ind"
   ]
  },
  {
   "cell_type": "code",
   "execution_count": null,
   "id": "f56e6e8f",
   "metadata": {},
   "outputs": [],
   "source": [
    "modelAutoARIMA=auto_arima(df_serie_train['VAL_CANTIDAD'], max_p = 4, max_q = 4,trace=False)\n",
    "P_ModeloAUtoArima=pd.DataFrame(modelAutoARIMA.predict(n_periods = 4), index=ind)"
   ]
  },
  {
   "cell_type": "code",
   "execution_count": null,
   "id": "aadb4301",
   "metadata": {},
   "outputs": [],
   "source": [
    "dfTotalV2['p_ARIMA']=P_ModeloAUtoArima"
   ]
  },
  {
   "cell_type": "code",
   "execution_count": null,
   "id": "b465a562",
   "metadata": {},
   "outputs": [],
   "source": [
    "## Exponential smooth\n",
    "modelSM = SimpleExpSmoothing(df_serie_train['VAL_CANTIDAD'])\n",
    "modelSM._index=df_serie_train.index"
   ]
  },
  {
   "cell_type": "code",
   "execution_count": null,
   "id": "203df2ae",
   "metadata": {},
   "outputs": [],
   "source": [
    "df_serie_train['VAL_CANTIDAD']"
   ]
  },
  {
   "cell_type": "code",
   "execution_count": null,
   "id": "49c97abf",
   "metadata": {
    "scrolled": true
   },
   "outputs": [],
   "source": [
    "#P_ModeloAUtoArima\n",
    "P_modelSM=modelSM.fit(smoothing_level=.5).forecast(5)\n",
    "P_modelSM"
   ]
  },
  {
   "cell_type": "code",
   "execution_count": null,
   "id": "172dac62",
   "metadata": {},
   "outputs": [],
   "source": [
    "dfTotalV2['p_ES']=P_modelSM"
   ]
  },
  {
   "cell_type": "code",
   "execution_count": null,
   "id": "f399d9da",
   "metadata": {},
   "outputs": [],
   "source": [
    "## Holt"
   ]
  },
  {
   "cell_type": "code",
   "execution_count": null,
   "id": "f4271634",
   "metadata": {},
   "outputs": [],
   "source": [
    "modelHl = Holt(df_serie_train['VAL_CANTIDAD'])\n",
    "modelHl._index=df_serie_train.index"
   ]
  },
  {
   "cell_type": "code",
   "execution_count": null,
   "id": "f9458683",
   "metadata": {
    "scrolled": true
   },
   "outputs": [],
   "source": [
    "P_modelHl=modelHl.fit(optimized=True).forecast(5)\n",
    "P_modelHl"
   ]
  },
  {
   "cell_type": "code",
   "execution_count": null,
   "id": "c9a52e87",
   "metadata": {},
   "outputs": [],
   "source": [
    "dfTotalV2['p_HL']=P_modelHl"
   ]
  },
  {
   "cell_type": "code",
   "execution_count": null,
   "id": "f6b52a6e",
   "metadata": {},
   "outputs": [],
   "source": [
    "modelESD=ExponentialSmoothing(df_serie_train['VAL_CANTIDAD'], trend='mul', seasonal=None, damped=True)\n",
    "P_modelESD=modelESD.fit().forecast(5)"
   ]
  },
  {
   "cell_type": "code",
   "execution_count": null,
   "id": "0a50bce6",
   "metadata": {},
   "outputs": [],
   "source": [
    "P_modelESD"
   ]
  },
  {
   "cell_type": "code",
   "execution_count": null,
   "id": "50efb8bf",
   "metadata": {},
   "outputs": [],
   "source": [
    "dfTotalV2['p_ESD']=P_modelESD"
   ]
  },
  {
   "cell_type": "code",
   "execution_count": null,
   "id": "d5727864",
   "metadata": {},
   "outputs": [],
   "source": [
    "#dfTotalV2.reset_index().plot('FEC_MUESTRA',['VAL_CANTIDAD','p_ARIMA','p_ES','p_HL','p_ESD'], figsize=(15,8))"
   ]
  },
  {
   "cell_type": "markdown",
   "id": "61f38bf5",
   "metadata": {},
   "source": [
    "## 2.  Des_Evento"
   ]
  },
  {
   "cell_type": "code",
   "execution_count": null,
   "id": "b3e95a6c",
   "metadata": {},
   "outputs": [],
   "source": [
    "dfDesEvento=df.groupby(['FEC_MUESTRA','DES_EVENTO'])['VAL_CANTIDAD'].agg('sum').reset_index('DES_EVENTO')"
   ]
  },
  {
   "cell_type": "code",
   "execution_count": null,
   "id": "c8ed066b",
   "metadata": {
    "scrolled": true
   },
   "outputs": [],
   "source": [
    "dfDesEvento"
   ]
  },
  {
   "cell_type": "code",
   "execution_count": null,
   "id": "d50008cd",
   "metadata": {},
   "outputs": [],
   "source": [
    "## agregar ITEM Malware y DES Accion Bloqueo\n",
    "df_Accion=df[df['DES_ACCION']=='Bloqueos'].groupby(['FEC_MUESTRA'])[['VAL_CANTIDAD']].agg('sum')\n",
    "df_Accion.columns=['ACCION_Bloqueos']"
   ]
  },
  {
   "cell_type": "code",
   "execution_count": null,
   "id": "db6261e5",
   "metadata": {
    "scrolled": true
   },
   "outputs": [],
   "source": [
    "df_Accion"
   ]
  },
  {
   "cell_type": "code",
   "execution_count": null,
   "id": "86f39433",
   "metadata": {},
   "outputs": [],
   "source": [
    "df_Item=df[df['ITEM']=='Malware'].groupby(['FEC_MUESTRA'])[['VAL_CANTIDAD']].agg('sum')\n",
    "df_Item.columns=['ITEM_Malware']"
   ]
  },
  {
   "cell_type": "code",
   "execution_count": null,
   "id": "93471f24",
   "metadata": {
    "scrolled": true
   },
   "outputs": [],
   "source": [
    "df_Item"
   ]
  },
  {
   "cell_type": "code",
   "execution_count": null,
   "id": "720684cd",
   "metadata": {},
   "outputs": [],
   "source": [
    "dfDesEvento_T=pd.pivot_table(dfDesEvento.reset_index(), index='FEC_MUESTRA', columns='DES_EVENTO', values='VAL_CANTIDAD')"
   ]
  },
  {
   "cell_type": "code",
   "execution_count": null,
   "id": "c64ff22b",
   "metadata": {},
   "outputs": [],
   "source": [
    "dfDesEvento_T['ACCION_Bloqueos']=df_Accion['ACCION_Bloqueos']\n",
    "dfDesEvento_T['ITEM_Malware']=df_Item['ITEM_Malware']"
   ]
  },
  {
   "cell_type": "code",
   "execution_count": null,
   "id": "44657eb0",
   "metadata": {},
   "outputs": [],
   "source": [
    "dfDesEvento_T"
   ]
  },
  {
   "cell_type": "code",
   "execution_count": null,
   "id": "a9fad6d6",
   "metadata": {},
   "outputs": [],
   "source": [
    "dfDesEvento_T.index=pd.to_datetime(dfDesEvento_T.index)"
   ]
  },
  {
   "cell_type": "code",
   "execution_count": null,
   "id": "a7383d00",
   "metadata": {},
   "outputs": [],
   "source": [
    "dfDesEvento_T=dfDesEvento_T.asfreq(freq='W-WED').interpolate()\n",
    "dfDesEvento_T.fillna(method=\"bfill\",inplace=True)"
   ]
  },
  {
   "cell_type": "code",
   "execution_count": null,
   "id": "e528eef0",
   "metadata": {},
   "outputs": [],
   "source": [
    "dfDesEvento_T"
   ]
  },
  {
   "cell_type": "code",
   "execution_count": null,
   "id": "6b7e54a9",
   "metadata": {},
   "outputs": [],
   "source": [
    "de_serie_train=dfDesEvento_T[:fechaMaxTrain]\n",
    "de_serie_test=dfDesEvento_T[fechaMinTest:]\n",
    "grupos=dfDesEvento_T.columns"
   ]
  },
  {
   "cell_type": "code",
   "execution_count": null,
   "id": "ccd72b67",
   "metadata": {},
   "outputs": [],
   "source": [
    "grupos"
   ]
  },
  {
   "cell_type": "code",
   "execution_count": null,
   "id": "4173438b",
   "metadata": {},
   "outputs": [],
   "source": [
    "de_serie_train"
   ]
  },
  {
   "cell_type": "code",
   "execution_count": null,
   "id": "33c24a21",
   "metadata": {},
   "outputs": [],
   "source": [
    "prefix=['P_ARIMA_','p_ES_','p_HL_','p_ESD_','p_ETS_']"
   ]
  },
  {
   "cell_type": "code",
   "execution_count": null,
   "id": "5763b322",
   "metadata": {},
   "outputs": [],
   "source": [
    "M_error={}\n",
    "for col in grupos: \n",
    "    M={}\n",
    "    #model AutoARIMA\n",
    "    modelAutoARIMA=auto_arima(de_serie_train[col],trace=False)\n",
    "    modelAutoARIMA.fit(de_serie_train[col])\n",
    "    P_ModeloAUtoArima=pd.DataFrame(modelAutoARIMA.predict(n_periods = 4), index=ind)\n",
    "    dfDesEvento_T['P_ARIMA_'+col]=P_ModeloAUtoArima\n",
    "    # model Exponential Smooting\n",
    "    modelSM = SimpleExpSmoothing(de_serie_train[col])\n",
    "    #modelSM._index=df_serie_train.index\n",
    "    P_modelSM=modelSM.fit(smoothing_level=.5).forecast(4)\n",
    "    dfDesEvento_T['p_ES_'+col]=P_modelSM\n",
    "    #Holt\n",
    "    modelHl = Holt(de_serie_train[col])\n",
    "    P_modelHl=modelHl.fit(optimized=True).forecast(4)    \n",
    "    dfDesEvento_T['p_HL_'+col]=P_modelHl\n",
    "    #ES tend\n",
    "    modelESD=ExponentialSmoothing(de_serie_train[col], trend='mul', seasonal=None, damped=True)\n",
    "    P_modelESD=modelESD.fit().forecast(4)\n",
    "    dfDesEvento_T['p_ESD_'+col]=P_modelESD    \n",
    "    ##ETS\n",
    "    modelETS = ETSModel(de_serie_train[col],seasonal_periods=4,error=\"add\",trend=\"add\",seasonal=\"add\", damped_trend=True,)\n",
    "    modelETS = modelETS.fit()\n",
    "    start=len(de_serie_train[col])\n",
    "    P_modelETS=modelETS.get_prediction(start=start, end=start+3).summary_frame(alpha=0.05)['mean']\n",
    "    dfDesEvento_T['p_ETS_'+col] = P_modelETS\n",
    "                \n",
    "    ## calculo de errores\n",
    "    M['RMSE_ARIMA']=mean_squared_error(de_serie_test[col],P_ModeloAUtoArima, squared=False)\n",
    "    M['MAPE_ARIMA']=mean_absolute_percentage_error(de_serie_test[col],P_ModeloAUtoArima)\n",
    "    M['RMSE_ES']=mean_squared_error(de_serie_test[col],P_modelSM, squared=False)\n",
    "    M['MAPE_ES']=mean_absolute_percentage_error(de_serie_test[col],P_modelSM)\n",
    "    M['RMSE_HL']=mean_squared_error(de_serie_test[col],P_modelHl, squared=False)\n",
    "    M['MAPE_HL']=mean_absolute_percentage_error(de_serie_test[col],P_modelHl)\n",
    "    M['RMSE_ESD']=mean_squared_error(de_serie_test[col],P_modelESD, squared=False)\n",
    "    M['MAPE_ESD']=mean_absolute_percentage_error(de_serie_test[col],P_modelESD)\n",
    "    M['RMSE_ETS']=mean_squared_error(de_serie_test[col],P_modelETS, squared=False)\n",
    "    M['MAPE_ETS']=mean_absolute_percentage_error(de_serie_test[col],P_modelETS)\n",
    "    \n",
    "    \n",
    "    M_error[col]=M"
   ]
  },
  {
   "cell_type": "code",
   "execution_count": null,
   "id": "12893196",
   "metadata": {},
   "outputs": [],
   "source": [
    "dfDesEvento_T"
   ]
  },
  {
   "cell_type": "code",
   "execution_count": null,
   "id": "73006b7b",
   "metadata": {
    "scrolled": true
   },
   "outputs": [],
   "source": [
    "M_error"
   ]
  },
  {
   "cell_type": "code",
   "execution_count": null,
   "id": "31d46481",
   "metadata": {},
   "outputs": [],
   "source": [
    "df_error=pd.DataFrame.from_dict(M_error, orient='index')\n",
    "df_error"
   ]
  },
  {
   "cell_type": "code",
   "execution_count": null,
   "id": "0b89b161",
   "metadata": {},
   "outputs": [],
   "source": [
    "df_error=df_error[df_error.columns.sort_values()]"
   ]
  },
  {
   "cell_type": "code",
   "execution_count": null,
   "id": "8bcb1035",
   "metadata": {},
   "outputs": [],
   "source": [
    "df_error"
   ]
  },
  {
   "cell_type": "markdown",
   "id": "0a13e036",
   "metadata": {},
   "source": [
    "##  Seleccionar modelo por serie"
   ]
  },
  {
   "cell_type": "code",
   "execution_count": null,
   "id": "cbcfcb45",
   "metadata": {},
   "outputs": [],
   "source": [
    "colError=df_error.filter(regex='^MAPE',axis=1).columns.values"
   ]
  },
  {
   "cell_type": "code",
   "execution_count": null,
   "id": "6a9fc97f",
   "metadata": {},
   "outputs": [],
   "source": [
    "colMetodos={x.replace('MAPE_','') for x in colError}"
   ]
  },
  {
   "cell_type": "code",
   "execution_count": null,
   "id": "d809ecd3",
   "metadata": {},
   "outputs": [],
   "source": [
    "colMetodos"
   ]
  },
  {
   "cell_type": "code",
   "execution_count": null,
   "id": "158de017",
   "metadata": {},
   "outputs": [],
   "source": [
    "minError=list(df_error.filter(regex='^MAPE',axis=1).min(axis=1).values)"
   ]
  },
  {
   "cell_type": "code",
   "execution_count": null,
   "id": "3fe14601",
   "metadata": {},
   "outputs": [],
   "source": [
    "minError"
   ]
  },
  {
   "cell_type": "code",
   "execution_count": null,
   "id": "18c7cdfe",
   "metadata": {
    "scrolled": true
   },
   "outputs": [],
   "source": [
    "modeloSeleccionado=[np.nan]*len(df_error)\n",
    "i=0\n",
    "for ind,row in df_error.filter(regex='^MAPE',axis=1).iterrows():\n",
    "    auxRow=list(row.values)\n",
    "    auxInd=auxRow.index(minError[i])\n",
    "    modeloSeleccionado[i]=colError[auxInd].replace('MAPE_','')\n",
    "    print(auxRow)\n",
    "    i=i+1"
   ]
  },
  {
   "cell_type": "code",
   "execution_count": null,
   "id": "a277fc88",
   "metadata": {},
   "outputs": [],
   "source": [
    "modeloSeleccionado"
   ]
  },
  {
   "cell_type": "code",
   "execution_count": null,
   "id": "3c0e9151",
   "metadata": {},
   "outputs": [],
   "source": [
    "df_error['seleccion']=modeloSeleccionado"
   ]
  },
  {
   "cell_type": "code",
   "execution_count": null,
   "id": "f4bfa414",
   "metadata": {},
   "outputs": [],
   "source": [
    "df_error"
   ]
  },
  {
   "cell_type": "markdown",
   "id": "01fc0343",
   "metadata": {},
   "source": [
    "### Visual resultados"
   ]
  },
  {
   "cell_type": "code",
   "execution_count": null,
   "id": "b977f23f",
   "metadata": {},
   "outputs": [],
   "source": [
    "\"\"\"\n",
    "fig, axs = plt.subplots(3, 3 ,figsize=(15,10))\n",
    "i=0\n",
    "for col in grupos:\n",
    "    dfDesEvento_T[[col]].plot(ax=axs[i//3,i%3])    \n",
    "    axs[i//3,i%3].title.set_text(col)\n",
    "    for model in prefix:\n",
    "        dfDesEvento_T[[model+col]].plot(ax=axs[i//3,i%3])\n",
    "    axs[i//3,i%3].legend(prop={'size':10})\n",
    "    i=i+1\n",
    "fig.tight_layout()\"\"\""
   ]
  },
  {
   "cell_type": "markdown",
   "id": "1794cb79",
   "metadata": {},
   "source": [
    "##  Pronosticos futuros"
   ]
  },
  {
   "cell_type": "code",
   "execution_count": null,
   "id": "562f96db",
   "metadata": {},
   "outputs": [],
   "source": [
    "ind_P = pd.date_range(fechaMaxima, periods = 5, freq ='W-WED', name='FEC_MUESTRA')[1:]"
   ]
  },
  {
   "cell_type": "code",
   "execution_count": null,
   "id": "5045d394",
   "metadata": {},
   "outputs": [],
   "source": [
    "ind_P"
   ]
  },
  {
   "cell_type": "code",
   "execution_count": null,
   "id": "f5f6efc1",
   "metadata": {},
   "outputs": [],
   "source": [
    "dfResultado=pd.DataFrame(columns=colMetodos, index=ind_P)"
   ]
  },
  {
   "cell_type": "code",
   "execution_count": null,
   "id": "fd276714",
   "metadata": {},
   "outputs": [],
   "source": [
    "dfResultado['SERIE']=np.nan"
   ]
  },
  {
   "cell_type": "code",
   "execution_count": null,
   "id": "2bbcb138",
   "metadata": {},
   "outputs": [],
   "source": [
    "#dfResultado=dfResultado.reset_index()"
   ]
  },
  {
   "cell_type": "code",
   "execution_count": null,
   "id": "38f700bd",
   "metadata": {},
   "outputs": [],
   "source": [
    "dfResultado"
   ]
  },
  {
   "cell_type": "code",
   "execution_count": null,
   "id": "e421283d",
   "metadata": {},
   "outputs": [],
   "source": [
    "dfResultadoFinal=dfResultado.copy()\n",
    "for col in grupos:     \n",
    "    #model AutoARIMA\n",
    "    modelAutoARIMA=auto_arima(dfDesEvento_T[col],trace=False)\n",
    "    modelAutoARIMA.fit(dfDesEvento_T[col])\n",
    "    tf=pd.DataFrame(modelAutoARIMA.predict(n_periods = 4), index=ind_P, columns=['ARIMA'])\n",
    "    modelSM = SimpleExpSmoothing(dfDesEvento_T[col])    \n",
    "    P_modelSM=modelSM.fit(smoothing_level=.5).forecast(4)\n",
    "    tf['ES']=P_modelSM\n",
    "    #Holt\n",
    "    modelHl = Holt(dfDesEvento_T[col])\n",
    "    P_modelHl=modelHl.fit(optimized=True).forecast(4)    \n",
    "    tf['HL']=P_modelHl    \n",
    "    #ES tend\n",
    "    modelESD=ExponentialSmoothing(dfDesEvento_T[col], trend='mul', seasonal=None, damped=True)\n",
    "    P_modelESD=modelESD.fit().forecast(4)\n",
    "    tf['ESD']=P_modelESD \n",
    "    #ETS\n",
    "    modelETS = ETSModel(dfDesEvento_T[col],seasonal_periods=4,error=\"add\",trend=\"add\",seasonal=\"add\", damped_trend=True,)\n",
    "    modelETS = modelETS.fit()\n",
    "    start=len(dfDesEvento_T[col])\n",
    "    P_modelETS=modelETS.get_prediction(start=start, end=start+3).summary_frame(alpha=0.05)['mean']\n",
    "    tf['ETS']=P_modelETS \n",
    "    #dfDesEvento_T['p_ETS_'+col] = P_modelETS\n",
    "    \n",
    "    #serie\n",
    "    tf['SERIE']=col\n",
    "    dfResultadoFinal=dfResultadoFinal.append(tf)\n",
    "    "
   ]
  },
  {
   "cell_type": "code",
   "execution_count": null,
   "id": "06c1f87a",
   "metadata": {},
   "outputs": [],
   "source": [
    "dfResultadoFinal=dfResultadoFinal[dfResultadoFinal['SERIE'].notnull()]"
   ]
  },
  {
   "cell_type": "code",
   "execution_count": null,
   "id": "a7219af5",
   "metadata": {},
   "outputs": [],
   "source": [
    "dfResultadoFinal.reset_index(inplace=True)"
   ]
  },
  {
   "cell_type": "code",
   "execution_count": null,
   "id": "adab029d",
   "metadata": {
    "scrolled": true
   },
   "outputs": [],
   "source": [
    "dfResultadoFinal"
   ]
  },
  {
   "cell_type": "code",
   "execution_count": null,
   "id": "e4eb237a",
   "metadata": {},
   "outputs": [],
   "source": [
    "# seleccionar mejor resultado\n",
    "dfResultadoFinal['VAL_CANTIDAD']=0\n",
    "dfResultadoFinal['metodo']=np.nan\n",
    "for ind,row in dfResultadoFinal.iterrows():\n",
    "    #print(ind)\n",
    "    met=df_error.loc[row['SERIE'],'seleccion']\n",
    "    #print(met)\n",
    "    dfResultadoFinal.loc[ind,'metodo']=met\n",
    "    dfResultadoFinal.loc[ind,'VAL_CANTIDAD']=dfResultadoFinal.loc[ind,met]\n",
    "    #dfResultadoFinal"
   ]
  },
  {
   "cell_type": "code",
   "execution_count": null,
   "id": "16110ade",
   "metadata": {},
   "outputs": [],
   "source": [
    "#Eliminar predicciones negativas\n",
    "dfResultadoFinal['VAL_CANTIDAD']=np.where(dfResultadoFinal['VAL_CANTIDAD']<0,0,dfResultadoFinal['VAL_CANTIDAD'])"
   ]
  },
  {
   "cell_type": "code",
   "execution_count": null,
   "id": "4d596bde",
   "metadata": {
    "scrolled": true
   },
   "outputs": [],
   "source": [
    "dfResultadoFinal"
   ]
  },
  {
   "cell_type": "code",
   "execution_count": null,
   "id": "f49f8cbd",
   "metadata": {},
   "outputs": [],
   "source": [
    "formato_envio_pred=dfResultadoFinal[['FEC_MUESTRA','SERIE','VAL_CANTIDAD']]\n",
    "formato_envio_pred['tipo']='pred'"
   ]
  },
  {
   "cell_type": "code",
   "execution_count": null,
   "id": "68392f56",
   "metadata": {
    "scrolled": true
   },
   "outputs": [],
   "source": [
    "formato_envio_pred"
   ]
  },
  {
   "cell_type": "markdown",
   "id": "e166565d",
   "metadata": {},
   "source": [
    "### Formato envío"
   ]
  },
  {
   "cell_type": "code",
   "execution_count": null,
   "id": "f8b02d43",
   "metadata": {},
   "outputs": [],
   "source": [
    "grupos"
   ]
  },
  {
   "cell_type": "code",
   "execution_count": null,
   "id": "2957a7f2",
   "metadata": {},
   "outputs": [],
   "source": [
    "dfDesEvento_T[grupos]"
   ]
  },
  {
   "cell_type": "code",
   "execution_count": null,
   "id": "9127e71d",
   "metadata": {},
   "outputs": [],
   "source": [
    "formato_envio_hist=dfDesEvento_T[grupos].reset_index().melt(id_vars=['FEC_MUESTRA'],var_name='SERIE', value_name='VAL_CANTIDAD')"
   ]
  },
  {
   "cell_type": "code",
   "execution_count": null,
   "id": "928255a6",
   "metadata": {},
   "outputs": [],
   "source": [
    "formato_envio_hist['tipo']='hist'"
   ]
  },
  {
   "cell_type": "code",
   "execution_count": null,
   "id": "7fdec637",
   "metadata": {},
   "outputs": [],
   "source": [
    "formato_envio_hist"
   ]
  },
  {
   "cell_type": "code",
   "execution_count": null,
   "id": "877fb17f",
   "metadata": {},
   "outputs": [],
   "source": [
    "formato_envio=formato_envio_hist.append(formato_envio_pred)"
   ]
  },
  {
   "cell_type": "code",
   "execution_count": null,
   "id": "3ae63940",
   "metadata": {},
   "outputs": [],
   "source": [
    "formato_envio['VAL_CANTIDAD']=formato_envio['VAL_CANTIDAD'].round(2)"
   ]
  },
  {
   "cell_type": "code",
   "execution_count": null,
   "id": "c9bf25b1",
   "metadata": {},
   "outputs": [],
   "source": [
    "formato_envio"
   ]
  },
  {
   "cell_type": "code",
   "execution_count": null,
   "id": "b4e801d4",
   "metadata": {},
   "outputs": [],
   "source": [
    "fechaMinPron=formato_envio_pred['FEC_MUESTRA'].min()\n",
    "fechaMaxPron=formato_envio_pred['FEC_MUESTRA'].max()\n",
    "#nomFile='Eco_seg_'+fechaMinPron.strftime(\"%Y%m%d\")+'_'+fechaMaxPron.strftime(\"%Y%m%d\")\n",
    "nomFile='../Bases_Post_Transformaciones/Eco_seg_'"
   ]
  },
  {
   "cell_type": "code",
   "execution_count": null,
   "id": "e7335285",
   "metadata": {},
   "outputs": [],
   "source": [
    "for serie in grupos:\n",
    "    print(serie)\n",
    "    formato_envio[formato_envio['SERIE']==serie].to_csv(nomFile+'_'+serie+'.csv',index=False)"
   ]
  },
  {
   "cell_type": "code",
   "execution_count": null,
   "id": "f91073f2",
   "metadata": {},
   "outputs": [],
   "source": [
    "#formato_envio.to_csv(nomFile+'.csv',index=False)"
   ]
  },
  {
   "cell_type": "code",
   "execution_count": null,
   "id": "b2e4885c",
   "metadata": {},
   "outputs": [],
   "source": []
  },
  {
   "cell_type": "code",
   "execution_count": null,
   "id": "2dd9d792",
   "metadata": {},
   "outputs": [],
   "source": []
  }
 ],
 "metadata": {
  "kernelspec": {
   "display_name": "Python 3",
   "language": "python",
   "name": "python3"
  },
  "language_info": {
   "codemirror_mode": {
    "name": "ipython",
    "version": 3
   },
   "file_extension": ".py",
   "mimetype": "text/x-python",
   "name": "python",
   "nbconvert_exporter": "python",
   "pygments_lexer": "ipython3",
   "version": "3.9.0"
  }
 },
 "nbformat": 4,
 "nbformat_minor": 5
}
